{
 "cells": [
  {
   "cell_type": "markdown",
   "metadata": {},
   "source": [
    "<h2> <span style=\"color: Red;\"> Amr Rashad | Classification Models | Bank Customer Churn Dataset </span> </h2>"
   ]
  },
  {
   "cell_type": "markdown",
   "metadata": {},
   "source": [
    "## <span style=\"color: LightBlue;\"> 0. Outline </span>"
   ]
  },
  {
   "cell_type": "markdown",
   "metadata": {},
   "source": [
    "1. Perform Data Exploration (Categorical & Numerical)\n",
    "2. Answer the following questions:\n",
    "    - Check if the dataset suffers from imbalance\n",
    "    - Check whether there exists a correlation between the numerical variables\n",
    "3. Running 3 classification models to determine which one gives the most accurate prediction\n",
    "4. Evaluating the models and understand which features are the most important in explaining the customer's decision to leave."
   ]
  },
  {
   "cell_type": "markdown",
   "metadata": {},
   "source": [
    "## <span style=\"color: IndianRed;\"> 1. Loading The Dataset & Exploratory Data Analysis </span>"
   ]
  },
  {
   "cell_type": "markdown",
   "metadata": {},
   "source": [
    "### <span style=\"color: LightSalmon;\"> *1.1 Load Required Libraries:* </span>"
   ]
  },
  {
   "cell_type": "code",
   "execution_count": 430,
   "metadata": {},
   "outputs": [],
   "source": [
    "import pandas as pd\n",
    "import seaborn as sns\n",
    "import matplotlib\n",
    "import matplotlib.pyplot as plt\n",
    "plt.style.use('ggplot')\n",
    "from sklearn.model_selection import train_test_split\n",
    "from sklearn.discriminant_analysis import LinearDiscriminantAnalysis\n",
    "from sklearn.model_selection import StratifiedKFold\n",
    "from sklearn.metrics import accuracy_score, roc_auc_score\n",
    "from statistics import mean\n",
    "from sklearn.ensemble import RandomForestClassifier\n",
    "import lightgbm as lgb\n",
    "from sklearn.model_selection import cross_val_score"
   ]
  },
  {
   "cell_type": "code",
   "execution_count": 431,
   "metadata": {},
   "outputs": [],
   "source": [
    "%matplotlib inline\n",
    "matplotlib.rcParams['figure.figsize'] = (12,10) # Adjusts the configuration of the plots we will create"
   ]
  },
  {
   "cell_type": "markdown",
   "metadata": {},
   "source": [
    "### <span style=\"color: LightSalmon;\"> *1.2 Load Dataset:* </span>"
   ]
  },
  {
   "cell_type": "code",
   "execution_count": 432,
   "metadata": {},
   "outputs": [
    {
     "data": {
      "text/html": [
       "<div>\n",
       "<style scoped>\n",
       "    .dataframe tbody tr th:only-of-type {\n",
       "        vertical-align: middle;\n",
       "    }\n",
       "\n",
       "    .dataframe tbody tr th {\n",
       "        vertical-align: top;\n",
       "    }\n",
       "\n",
       "    .dataframe thead th {\n",
       "        text-align: right;\n",
       "    }\n",
       "</style>\n",
       "<table border=\"1\" class=\"dataframe\">\n",
       "  <thead>\n",
       "    <tr style=\"text-align: right;\">\n",
       "      <th></th>\n",
       "      <th>customer_id</th>\n",
       "      <th>credit_score</th>\n",
       "      <th>country</th>\n",
       "      <th>gender</th>\n",
       "      <th>age</th>\n",
       "      <th>tenure</th>\n",
       "      <th>balance</th>\n",
       "      <th>products_number</th>\n",
       "      <th>credit_card</th>\n",
       "      <th>active_member</th>\n",
       "      <th>estimated_salary</th>\n",
       "      <th>churn</th>\n",
       "    </tr>\n",
       "  </thead>\n",
       "  <tbody>\n",
       "    <tr>\n",
       "      <th>0</th>\n",
       "      <td>15634602</td>\n",
       "      <td>619</td>\n",
       "      <td>France</td>\n",
       "      <td>Female</td>\n",
       "      <td>42</td>\n",
       "      <td>2</td>\n",
       "      <td>0.00</td>\n",
       "      <td>1</td>\n",
       "      <td>1</td>\n",
       "      <td>1</td>\n",
       "      <td>101348.88</td>\n",
       "      <td>1</td>\n",
       "    </tr>\n",
       "    <tr>\n",
       "      <th>1</th>\n",
       "      <td>15647311</td>\n",
       "      <td>608</td>\n",
       "      <td>Spain</td>\n",
       "      <td>Female</td>\n",
       "      <td>41</td>\n",
       "      <td>1</td>\n",
       "      <td>83807.86</td>\n",
       "      <td>1</td>\n",
       "      <td>0</td>\n",
       "      <td>1</td>\n",
       "      <td>112542.58</td>\n",
       "      <td>0</td>\n",
       "    </tr>\n",
       "    <tr>\n",
       "      <th>2</th>\n",
       "      <td>15619304</td>\n",
       "      <td>502</td>\n",
       "      <td>France</td>\n",
       "      <td>Female</td>\n",
       "      <td>42</td>\n",
       "      <td>8</td>\n",
       "      <td>159660.80</td>\n",
       "      <td>3</td>\n",
       "      <td>1</td>\n",
       "      <td>0</td>\n",
       "      <td>113931.57</td>\n",
       "      <td>1</td>\n",
       "    </tr>\n",
       "    <tr>\n",
       "      <th>3</th>\n",
       "      <td>15701354</td>\n",
       "      <td>699</td>\n",
       "      <td>France</td>\n",
       "      <td>Female</td>\n",
       "      <td>39</td>\n",
       "      <td>1</td>\n",
       "      <td>0.00</td>\n",
       "      <td>2</td>\n",
       "      <td>0</td>\n",
       "      <td>0</td>\n",
       "      <td>93826.63</td>\n",
       "      <td>0</td>\n",
       "    </tr>\n",
       "    <tr>\n",
       "      <th>4</th>\n",
       "      <td>15737888</td>\n",
       "      <td>850</td>\n",
       "      <td>Spain</td>\n",
       "      <td>Female</td>\n",
       "      <td>43</td>\n",
       "      <td>2</td>\n",
       "      <td>125510.82</td>\n",
       "      <td>1</td>\n",
       "      <td>1</td>\n",
       "      <td>1</td>\n",
       "      <td>79084.10</td>\n",
       "      <td>0</td>\n",
       "    </tr>\n",
       "  </tbody>\n",
       "</table>\n",
       "</div>"
      ],
      "text/plain": [
       "   customer_id  credit_score country  gender  age  tenure    balance  \\\n",
       "0     15634602           619  France  Female   42       2       0.00   \n",
       "1     15647311           608   Spain  Female   41       1   83807.86   \n",
       "2     15619304           502  France  Female   42       8  159660.80   \n",
       "3     15701354           699  France  Female   39       1       0.00   \n",
       "4     15737888           850   Spain  Female   43       2  125510.82   \n",
       "\n",
       "   products_number  credit_card  active_member  estimated_salary  churn  \n",
       "0                1            1              1         101348.88      1  \n",
       "1                1            0              1         112542.58      0  \n",
       "2                3            1              0         113931.57      1  \n",
       "3                2            0              0          93826.63      0  \n",
       "4                1            1              1          79084.10      0  "
      ]
     },
     "execution_count": 432,
     "metadata": {},
     "output_type": "execute_result"
    }
   ],
   "source": [
    "Bank_Churn = pd.read_csv('Bank Customer Churn Prediction.csv')\n",
    "Bank_Churn.head()"
   ]
  },
  {
   "cell_type": "code",
   "execution_count": 433,
   "metadata": {},
   "outputs": [],
   "source": [
    "#Dropping customer_id\n",
    "Bank_Churn.drop(Bank_Churn.columns[[0]], axis=1, inplace=True)"
   ]
  },
  {
   "cell_type": "markdown",
   "metadata": {},
   "source": [
    "### <span style=\"color: LightSalmon;\"> *1.3 Data Exploration:* </span>"
   ]
  },
  {
   "cell_type": "markdown",
   "metadata": {},
   "source": [
    "#### <span style=\"color: DarkYellow;\"> *1.3.1 Exploring The 'churn' Distribution & Exploring The Dataset:* </span>"
   ]
  },
  {
   "cell_type": "code",
   "execution_count": 434,
   "metadata": {},
   "outputs": [
    {
     "data": {
      "image/png": "[encoded data removed]",
      "text/plain": [
       "<Figure size 864x720 with 1 Axes>"
      ]
     },
     "metadata": {},
     "output_type": "display_data"
    }
   ],
   "source": [
    "sns.set_style(\"whitegrid\")\n",
    "#sns.color_palette(\"pastel\", 9)\n",
    "sns.set_palette(\"Set2\")\n",
    "sns.countplot(x = 'churn', data = Bank_Churn)\n",
    " \n",
    "# Show the plot\n",
    "plt.show()"
   ]
  },
  {
   "cell_type": "markdown",
   "metadata": {},
   "source": [
    "- It seems that our dataset is moderately imbalanced. This will be looked at more in detail when we come to running the classification models"
   ]
  },
  {
   "cell_type": "markdown",
   "metadata": {},
   "source": [
    "#### <span style=\"color: DarkYellow;\"> *1.3.2 Categorical Variables Plots:* </span>"
   ]
  },
  {
   "cell_type": "code",
   "execution_count": 435,
   "metadata": {},
   "outputs": [
    {
     "data": {
      "image/png": "[encoded data removed]",
      "text/plain": [
       "<Figure size 864x720 with 3 Axes>"
      ]
     },
     "metadata": {},
     "output_type": "display_data"
    }
   ],
   "source": [
    "fig, axs = plt.subplots(nrows=3)\n",
    "sns.set_style(\"whitegrid\")\n",
    "plot_1 = sns.countplot(x = 'country', hue= 'gender', palette= \"Set2\", ax=axs[0], data = Bank_Churn)\n",
    "plot_2 = sns.countplot(x = 'credit_card', hue= 'gender', palette= \"husl\", ax=axs[1], data = Bank_Churn)\n",
    "plot_1 = sns.countplot(x = 'active_member', hue= 'gender', palette= \"Set3\", ax=axs[2], data = Bank_Churn)\n",
    " \n",
    "# Show the plot\n",
    "plt.show()"
   ]
  },
  {
   "cell_type": "markdown",
   "metadata": {},
   "source": [
    "- Interesting observation here, most of the clients who leave have credit cards."
   ]
  },
  {
   "cell_type": "markdown",
   "metadata": {},
   "source": [
    "#### <span style=\"color: DarkYellow;\"> *1.3.3 Exploring If There Exist A Correlation Among The Numerical Variables:* </span>"
   ]
  },
  {
   "cell_type": "code",
   "execution_count": 436,
   "metadata": {},
   "outputs": [
    {
     "data": {
      "text/html": [
       "<div>\n",
       "<style scoped>\n",
       "    .dataframe tbody tr th:only-of-type {\n",
       "        vertical-align: middle;\n",
       "    }\n",
       "\n",
       "    .dataframe tbody tr th {\n",
       "        vertical-align: top;\n",
       "    }\n",
       "\n",
       "    .dataframe thead th {\n",
       "        text-align: right;\n",
       "    }\n",
       "</style>\n",
       "<table border=\"1\" class=\"dataframe\">\n",
       "  <thead>\n",
       "    <tr style=\"text-align: right;\">\n",
       "      <th></th>\n",
       "      <th>credit_score</th>\n",
       "      <th>age</th>\n",
       "      <th>tenure</th>\n",
       "      <th>products_number</th>\n",
       "      <th>estimated_salary</th>\n",
       "    </tr>\n",
       "  </thead>\n",
       "  <tbody>\n",
       "    <tr>\n",
       "      <th>0</th>\n",
       "      <td>619</td>\n",
       "      <td>42</td>\n",
       "      <td>2</td>\n",
       "      <td>1</td>\n",
       "      <td>101348.88</td>\n",
       "    </tr>\n",
       "    <tr>\n",
       "      <th>1</th>\n",
       "      <td>608</td>\n",
       "      <td>41</td>\n",
       "      <td>1</td>\n",
       "      <td>1</td>\n",
       "      <td>112542.58</td>\n",
       "    </tr>\n",
       "    <tr>\n",
       "      <th>2</th>\n",
       "      <td>502</td>\n",
       "      <td>42</td>\n",
       "      <td>8</td>\n",
       "      <td>3</td>\n",
       "      <td>113931.57</td>\n",
       "    </tr>\n",
       "    <tr>\n",
       "      <th>3</th>\n",
       "      <td>699</td>\n",
       "      <td>39</td>\n",
       "      <td>1</td>\n",
       "      <td>2</td>\n",
       "      <td>93826.63</td>\n",
       "    </tr>\n",
       "    <tr>\n",
       "      <th>4</th>\n",
       "      <td>850</td>\n",
       "      <td>43</td>\n",
       "      <td>2</td>\n",
       "      <td>1</td>\n",
       "      <td>79084.10</td>\n",
       "    </tr>\n",
       "  </tbody>\n",
       "</table>\n",
       "</div>"
      ],
      "text/plain": [
       "   credit_score  age  tenure  products_number  estimated_salary\n",
       "0           619   42       2                1         101348.88\n",
       "1           608   41       1                1         112542.58\n",
       "2           502   42       8                3         113931.57\n",
       "3           699   39       1                2          93826.63\n",
       "4           850   43       2                1          79084.10"
      ]
     },
     "execution_count": 436,
     "metadata": {},
     "output_type": "execute_result"
    }
   ],
   "source": [
    "num_vars_Bank_Churn = Bank_Churn[['credit_score', 'age', 'tenure', 'products_number', 'estimated_salary']]\n",
    "num_vars_Bank_Churn.head()"
   ]
  },
  {
   "cell_type": "code",
   "execution_count": 437,
   "metadata": {},
   "outputs": [
    {
     "name": "stdout",
     "output_type": "stream",
     "text": [
      "                  credit_score       age    tenure  products_number  \\\n",
      "credit_score          1.000000 -0.003965  0.000842         0.012238   \n",
      "age                  -0.003965  1.000000 -0.009997        -0.030680   \n",
      "tenure                0.000842 -0.009997  1.000000         0.013444   \n",
      "products_number       0.012238 -0.030680  0.013444         1.000000   \n",
      "estimated_salary     -0.001384 -0.007201  0.007784         0.014204   \n",
      "\n",
      "                  estimated_salary  \n",
      "credit_score             -0.001384  \n",
      "age                      -0.007201  \n",
      "tenure                    0.007784  \n",
      "products_number           0.014204  \n",
      "estimated_salary          1.000000  \n"
     ]
    }
   ],
   "source": [
    "corr_matrix = num_vars_Bank_Churn.corr()\n",
    "print(corr_matrix)"
   ]
  },
  {
   "cell_type": "code",
   "execution_count": 438,
   "metadata": {},
   "outputs": [
    {
     "data": {
      "text/plain": [
       "<AxesSubplot:>"
      ]
     },
     "execution_count": 438,
     "metadata": {},
     "output_type": "execute_result"
    },
    {
     "data": {
      "image/png": "[encoded data removed]",
      "text/plain": [
       "<Figure size 864x720 with 2 Axes>"
      ]
     },
     "metadata": {},
     "output_type": "display_data"
    }
   ],
   "source": [
    "sns.heatmap(corr_matrix, annot=True)"
   ]
  },
  {
   "cell_type": "markdown",
   "metadata": {},
   "source": [
    "- It doesn't seem to be that we're having any noticeable / significant correlation between numerical variables"
   ]
  },
  {
   "cell_type": "markdown",
   "metadata": {},
   "source": [
    "### <span style=\"color: LightSalmon;\"> *1.4 Some Interesting Plots & Inferences:* </span>"
   ]
  },
  {
   "cell_type": "code",
   "execution_count": 439,
   "metadata": {},
   "outputs": [
    {
     "data": {
      "text/plain": [
       "<AxesSubplot:xlabel='churn', ylabel='age'>"
      ]
     },
     "execution_count": 439,
     "metadata": {},
     "output_type": "execute_result"
    },
    {
     "data": {
      "image/png": "[encoded data removed]",
      "text/plain": [
       "<Figure size 864x720 with 1 Axes>"
      ]
     },
     "metadata": {},
     "output_type": "display_data"
    }
   ],
   "source": [
    "sns.boxplot(data=Bank_Churn, x=\"churn\", y=\"age\")"
   ]
  },
  {
   "cell_type": "markdown",
   "metadata": {},
   "source": [
    "- Seems that the average age of customers leaving the bank is around 10 years more than the average age of customers who stay"
   ]
  },
  {
   "cell_type": "code",
   "execution_count": 440,
   "metadata": {},
   "outputs": [
    {
     "data": {
      "text/plain": [
       "<seaborn.axisgrid.FacetGrid at 0x237208c2080>"
      ]
     },
     "execution_count": 440,
     "metadata": {},
     "output_type": "execute_result"
    },
    {
     "data": {
      "image/png": "[encoded data removed]",
      "text/plain": [
       "<Figure size 401.625x360 with 1 Axes>"
      ]
     },
     "metadata": {},
     "output_type": "display_data"
    }
   ],
   "source": [
    "sns.displot(x='age', stat = 'percent', hue = 'churn', data= Bank_Churn,\n",
    "                kind = 'hist', palette= \"Set2\")"
   ]
  },
  {
   "cell_type": "markdown",
   "metadata": {},
   "source": [
    "- Seems that distribution is skewed towards young/middle aged clients, where again we can see the peak of each distribution, for instance the peak for customers who stayed is in between 30 and 40 years old, as for the customers who have left, the peak is in between 40 and 50 years old."
   ]
  },
  {
   "cell_type": "markdown",
   "metadata": {},
   "source": [
    "## <span style=\"color: IndianRed;\"> 2. Running Various Classification Models: </span>"
   ]
  },
  {
   "cell_type": "markdown",
   "metadata": {},
   "source": [
    "- Few points to discuss before applying the classification models.\n",
    "    1. The dataset will be split into train and test sets, 70/30 accordingly. \n",
    "    2. The data imbalance will be dealt with through the application of Stratified k-fold cross validation.\n",
    "- The classification models that will be applied are the following:\n",
    "    1. Linear Discriminant Analysis\n",
    "    2. Random Forest\n",
    "    3. Light Gradient-Boosting Machine"
   ]
  },
  {
   "cell_type": "markdown",
   "metadata": {},
   "source": [
    "### <span style=\"color: LightSalmon;\"> *2.1 Split the data into train and test sets:* </span>"
   ]
  },
  {
   "cell_type": "code",
   "execution_count": 441,
   "metadata": {},
   "outputs": [],
   "source": [
    "#creating dummy variables for the categorical variables\n",
    "Bank_Churn_dum = pd.get_dummies(Bank_Churn, columns=['country', 'gender'], drop_first = True)"
   ]
  },
  {
   "cell_type": "code",
   "execution_count": 442,
   "metadata": {},
   "outputs": [],
   "source": [
    "x = Bank_Churn_dum.loc[:, Bank_Churn_dum.columns !='churn']\n",
    "y = Bank_Churn_dum.loc[:, Bank_Churn_dum.columns =='churn']"
   ]
  },
  {
   "cell_type": "code",
   "execution_count": 443,
   "metadata": {},
   "outputs": [],
   "source": [
    "X_train, X_test, y_train, y_test = train_test_split(x, y, test_size=0.3, random_state=123)"
   ]
  },
  {
   "cell_type": "code",
   "execution_count": 444,
   "metadata": {},
   "outputs": [],
   "source": [
    "Test_scores = pd.DataFrame(columns=['Accuracy', 'AUC'])"
   ]
  },
  {
   "cell_type": "markdown",
   "metadata": {},
   "source": [
    "### <span style=\"color: LightSalmon;\"> *2.2 Linear Discriminant Analysis Model:* </span>"
   ]
  },
  {
   "cell_type": "code",
   "execution_count": 445,
   "metadata": {},
   "outputs": [],
   "source": [
    "# Fitting the model & Performing Stratified k-fold cross validation after\n",
    "lda =  LinearDiscriminantAnalysis()\n",
    "lda.fit(X_train, y_train['churn'])\n",
    "cv = StratifiedKFold(n_splits=10, random_state=123, shuffle= True)"
   ]
  },
  {
   "cell_type": "code",
   "execution_count": 446,
   "metadata": {},
   "outputs": [
    {
     "name": "stdout",
     "output_type": "stream",
     "text": [
      "\n",
      "Overall Train Accuracy: 80.30 %\n",
      "\n",
      "Overall Train AUC: 76.27 %\n"
     ]
    }
   ],
   "source": [
    "#Evaluating the model accuracy & AUC\n",
    "acc_score_train = cross_val_score(lda, X_train, y_train, scoring='accuracy', cv=cv, n_jobs=-1)\n",
    "auc_score_train = cross_val_score(lda, X_train, y_train, scoring='roc_auc', cv=cv, n_jobs=-1)\n",
    "print('\\nOverall Train Accuracy: %.2f' % (mean(acc_score_train)*100), '%')\n",
    "print('\\nOverall Train AUC: %.2f' % (mean(auc_score_train)*100), '%')"
   ]
  },
  {
   "cell_type": "code",
   "execution_count": 447,
   "metadata": {},
   "outputs": [
    {
     "name": "stdout",
     "output_type": "stream",
     "text": [
      "\n",
      "Overall Test Accuracy: 81.67 %\n",
      "\n",
      "Overall Test AUC: 77.93 %\n"
     ]
    }
   ],
   "source": [
    "#Performing model prediction and getting the accuracy and AUC scores\n",
    "pred = lda.predict(X_test)\n",
    "pred_prob = lda.predict_proba(X_test)[:, 1]\n",
    "acc_score_test = accuracy_score(y_test, pred)\n",
    "auc_score_test = roc_auc_score(y_test, pred_prob)\n",
    "print('\\nOverall Test Accuracy: %.2f' % (acc_score_test*100), '%')\n",
    "print('\\nOverall Test AUC: %.2f' % (auc_score_test*100), '%')"
   ]
  },
  {
   "cell_type": "code",
   "execution_count": 448,
   "metadata": {},
   "outputs": [
    {
     "name": "stderr",
     "output_type": "stream",
     "text": [
      "C:\\Users\\amrmn\\AppData\\Local\\Temp\\ipykernel_12212\\4285009929.py:1: FutureWarning: The frame.append method is deprecated and will be removed from pandas in a future version. Use pandas.concat instead.\n",
      "  Test_scores = Test_scores.append({\"Accuracy\":acc_score_test, \"AUC\": auc_score_test},ignore_index=True)\n"
     ]
    }
   ],
   "source": [
    "Test_scores = Test_scores.append({\"Accuracy\":acc_score_test, \"AUC\": auc_score_test},ignore_index=True)"
   ]
  },
  {
   "cell_type": "markdown",
   "metadata": {},
   "source": [
    "### <span style=\"color: LightSalmon;\"> *2.3 Random Forest Model:* </span>"
   ]
  },
  {
   "cell_type": "code",
   "execution_count": 449,
   "metadata": {},
   "outputs": [],
   "source": [
    "# Fitting the model & Performing Stratified k-fold cross validation after\n",
    "rf =  RandomForestClassifier()\n",
    "rf.fit(X_train, y_train['churn'])\n",
    "cv = StratifiedKFold(n_splits=10, random_state=123, shuffle= True)"
   ]
  },
  {
   "cell_type": "code",
   "execution_count": 450,
   "metadata": {},
   "outputs": [
    {
     "name": "stdout",
     "output_type": "stream",
     "text": [
      "\n",
      "Overall Train Accuracy: 85.99 %\n",
      "\n",
      "Overall Train AUC: 84.98 %\n"
     ]
    }
   ],
   "source": [
    "#Evaluating the model accuracy & AUC\n",
    "acc_score_train = cross_val_score(rf, X_train, y_train, scoring='accuracy', cv=cv, n_jobs=-1)\n",
    "auc_score_train = cross_val_score(rf, X_train, y_train, scoring='roc_auc', cv=cv, n_jobs=-1)\n",
    "print('\\nOverall Train Accuracy: %.2f' % (mean(acc_score_train)*100), '%')\n",
    "print('\\nOverall Train AUC: %.2f' % (mean(auc_score_train)*100), '%')"
   ]
  },
  {
   "cell_type": "code",
   "execution_count": 451,
   "metadata": {},
   "outputs": [
    {
     "name": "stdout",
     "output_type": "stream",
     "text": [
      "\n",
      "Overall Test Accuracy: 86.97 %\n",
      "\n",
      "Overall Test AUC: 86.18 %\n"
     ]
    }
   ],
   "source": [
    "#Performing model prediction and getting the accuracy and AUC scores\n",
    "pred = rf.predict(X_test)\n",
    "pred_prob = rf.predict_proba(X_test)[:, 1]\n",
    "acc_score_test = accuracy_score(y_test, pred)\n",
    "auc_score_test = roc_auc_score(y_test, pred_prob)\n",
    "print('\\nOverall Test Accuracy: %.2f' % (acc_score_test*100), '%')\n",
    "print('\\nOverall Test AUC: %.2f' % (auc_score_test*100), '%')"
   ]
  },
  {
   "cell_type": "code",
   "execution_count": 452,
   "metadata": {},
   "outputs": [
    {
     "name": "stderr",
     "output_type": "stream",
     "text": [
      "C:\\Users\\amrmn\\AppData\\Local\\Temp\\ipykernel_12212\\4285009929.py:1: FutureWarning: The frame.append method is deprecated and will be removed from pandas in a future version. Use pandas.concat instead.\n",
      "  Test_scores = Test_scores.append({\"Accuracy\":acc_score_test, \"AUC\": auc_score_test},ignore_index=True)\n"
     ]
    }
   ],
   "source": [
    "Test_scores = Test_scores.append({\"Accuracy\":acc_score_test, \"AUC\": auc_score_test},ignore_index=True)"
   ]
  },
  {
   "cell_type": "markdown",
   "metadata": {},
   "source": [
    "### <span style=\"color: LightSalmon;\"> *2.4 Light Gradient-Boosting Machine Model:* </span>"
   ]
  },
  {
   "cell_type": "code",
   "execution_count": 453,
   "metadata": {},
   "outputs": [],
   "source": [
    "# Fitting the model & Performing Stratified k-fold cross validation after\n",
    "lgbm =  lgb.LGBMClassifier()\n",
    "lgbm.fit(X_train, y_train['churn'])\n",
    "cv = StratifiedKFold(n_splits=10, random_state=123, shuffle= True)"
   ]
  },
  {
   "cell_type": "code",
   "execution_count": 454,
   "metadata": {},
   "outputs": [
    {
     "name": "stdout",
     "output_type": "stream",
     "text": [
      "\n",
      "Overall Train Accuracy: 85.76 %\n",
      "\n",
      "Overall Train AUC: 85.25 %\n"
     ]
    }
   ],
   "source": [
    "#Evaluating the model accuracy & AUC\n",
    "acc_score_train = cross_val_score(lgbm, X_train, y_train, scoring='accuracy', cv=cv, n_jobs=-1)\n",
    "auc_score_train = cross_val_score(lgbm, X_train, y_train, scoring='roc_auc', cv=cv, n_jobs=-1)\n",
    "print('\\nOverall Train Accuracy: %.2f' % (mean(acc_score_train)*100), '%')\n",
    "print('\\nOverall Train AUC: %.2f' % (mean(auc_score_train)*100), '%')"
   ]
  },
  {
   "cell_type": "code",
   "execution_count": 455,
   "metadata": {},
   "outputs": [
    {
     "name": "stdout",
     "output_type": "stream",
     "text": [
      "\n",
      "Overall Test Accuracy: 86.77 %\n",
      "\n",
      "Overall Test AUC: 87.38 %\n"
     ]
    }
   ],
   "source": [
    "#Performing model prediction and getting the accuracy and AUC scores\n",
    "pred = lgbm.predict(X_test)\n",
    "pred_prob = lgbm.predict_proba(X_test)[:, 1]\n",
    "acc_score_test = accuracy_score(y_test, pred)\n",
    "auc_score_test = roc_auc_score(y_test, pred_prob)\n",
    "print('\\nOverall Test Accuracy: %.2f' % (acc_score_test*100), '%')\n",
    "print('\\nOverall Test AUC: %.2f' % (auc_score_test*100), '%')"
   ]
  },
  {
   "cell_type": "code",
   "execution_count": 456,
   "metadata": {},
   "outputs": [
    {
     "name": "stderr",
     "output_type": "stream",
     "text": [
      "C:\\Users\\amrmn\\AppData\\Local\\Temp\\ipykernel_12212\\4285009929.py:1: FutureWarning: The frame.append method is deprecated and will be removed from pandas in a future version. Use pandas.concat instead.\n",
      "  Test_scores = Test_scores.append({\"Accuracy\":acc_score_test, \"AUC\": auc_score_test},ignore_index=True)\n"
     ]
    }
   ],
   "source": [
    "Test_scores = Test_scores.append({\"Accuracy\":acc_score_test, \"AUC\": auc_score_test},ignore_index=True)"
   ]
  },
  {
   "cell_type": "markdown",
   "metadata": {},
   "source": [
    "## <span style=\"color: IndianRed;\"> 3. Model Evaluation & Performing Feature Importance: </span>"
   ]
  },
  {
   "cell_type": "code",
   "execution_count": 457,
   "metadata": {},
   "outputs": [
    {
     "data": {
      "text/html": [
       "<div>\n",
       "<style scoped>\n",
       "    .dataframe tbody tr th:only-of-type {\n",
       "        vertical-align: middle;\n",
       "    }\n",
       "\n",
       "    .dataframe tbody tr th {\n",
       "        vertical-align: top;\n",
       "    }\n",
       "\n",
       "    .dataframe thead th {\n",
       "        text-align: right;\n",
       "    }\n",
       "</style>\n",
       "<table border=\"1\" class=\"dataframe\">\n",
       "  <thead>\n",
       "    <tr style=\"text-align: right;\">\n",
       "      <th></th>\n",
       "      <th>Accuracy</th>\n",
       "      <th>AUC</th>\n",
       "    </tr>\n",
       "  </thead>\n",
       "  <tbody>\n",
       "    <tr>\n",
       "      <th>0</th>\n",
       "      <td>0.816667</td>\n",
       "      <td>0.779349</td>\n",
       "    </tr>\n",
       "    <tr>\n",
       "      <th>1</th>\n",
       "      <td>0.869667</td>\n",
       "      <td>0.861827</td>\n",
       "    </tr>\n",
       "    <tr>\n",
       "      <th>2</th>\n",
       "      <td>0.867667</td>\n",
       "      <td>0.873756</td>\n",
       "    </tr>\n",
       "  </tbody>\n",
       "</table>\n",
       "</div>"
      ],
      "text/plain": [
       "   Accuracy       AUC\n",
       "0  0.816667  0.779349\n",
       "1  0.869667  0.861827\n",
       "2  0.867667  0.873756"
      ]
     },
     "execution_count": 457,
     "metadata": {},
     "output_type": "execute_result"
    }
   ],
   "source": [
    "Test_scores"
   ]
  },
  {
   "cell_type": "markdown",
   "metadata": {},
   "source": [
    "- It seems that LGMB model provides the best test accuracy and AUC"
   ]
  },
  {
   "cell_type": "code",
   "execution_count": 458,
   "metadata": {},
   "outputs": [],
   "source": [
    "importances = pd.DataFrame({'Value':lgbm.feature_importances_,'Feature':X_train.columns}).sort_values(by=\"Value\",ascending=False)"
   ]
  },
  {
   "cell_type": "code",
   "execution_count": 459,
   "metadata": {},
   "outputs": [
    {
     "data": {
      "image/png": "[encoded data removed]",
      "text/plain": [
       "<Figure size 864x720 with 1 Axes>"
      ]
     },
     "metadata": {},
     "output_type": "display_data"
    }
   ],
   "source": [
    "sns.set_style(\"darkgrid\")\n",
    "plot_6 = sns.barplot(x = importances['Feature'], y = importances['Value'], palette = 'Spectral')\n",
    "plt.title('Feature importance', size=20)\n",
    "plt.xticks(rotation='vertical')\n",
    "plt.show(plot_6)"
   ]
  },
  {
   "cell_type": "markdown",
   "metadata": {},
   "source": [
    "- The variables with the highest importance scores (the ones that give the best prediction and contribute most to the model) are:\n",
    "    1. Credit Score\n",
    "    2. Balance\n",
    "    3. Estimated Salary\n",
    "    4. Age"
   ]
  }
 ],
 "metadata": {
  "kernelspec": {
   "display_name": "Python 3.10.5 64-bit",
   "language": "python",
   "name": "python3"
  },
  "language_info": {
   "codemirror_mode": {
    "name": "ipython",
    "version": 3
   },
   "file_extension": ".py",
   "mimetype": "text/x-python",
   "name": "python",
   "nbconvert_exporter": "python",
   "pygments_lexer": "ipython3",
   "version": "3.10.5"
  },
  "orig_nbformat": 4,
  "vscode": {
   "interpreter": {
    "hash": "23bcb5e9a6413dcfbd3c72881037818c2cc290a48c01e68273d2dbcf457c0e65"
   }
  }
 },
 "nbformat": 4,
 "nbformat_minor": 2
}
